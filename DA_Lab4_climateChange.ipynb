{
  "nbformat": 4,
  "nbformat_minor": 0,
  "metadata": {
    "colab": {
      "provenance": [],
      "authorship_tag": "ABX9TyNmkJ/nvoaK/jn0GpK9HZix",
      "include_colab_link": true
    },
    "kernelspec": {
      "name": "python3",
      "display_name": "Python 3"
    },
    "language_info": {
      "name": "python"
    }
  },
  "cells": [
    {
      "cell_type": "markdown",
      "metadata": {
        "id": "view-in-github",
        "colab_type": "text"
      },
      "source": [
        "<a href=\"https://colab.research.google.com/github/Captaingreenbeard/DataAnalyticsLab_SEM7/blob/main/DA_Lab4_climateChange.ipynb\" target=\"_parent\"><img src=\"https://colab.research.google.com/assets/colab-badge.svg\" alt=\"Open In Colab\"/></a>"
      ]
    },
    {
      "cell_type": "code",
      "execution_count": 1,
      "metadata": {
        "id": "rEbd7TGJy00Z"
      },
      "outputs": [],
      "source": [
        "import pandas as pd\n",
        "import numpy as np\n",
        "import seaborn as sns"
      ]
    },
    {
      "cell_type": "code",
      "source": [
        "data = pd.read_csv(\"climate_change.csv\")"
      ],
      "metadata": {
        "id": "CMjs6WrrzBVx"
      },
      "execution_count": 2,
      "outputs": []
    },
    {
      "cell_type": "code",
      "source": [
        "data.head()"
      ],
      "metadata": {
        "colab": {
          "base_uri": "https://localhost:8080/",
          "height": 206
        },
        "id": "sxm29C8uz32S",
        "outputId": "aa3b4e65-c81e-48e9-ba32-8cb1cca468f3"
      },
      "execution_count": 3,
      "outputs": [
        {
          "output_type": "execute_result",
          "data": {
            "text/plain": [
              "   Year  Month    MEI     CO2      CH4      N2O   CFC-11   CFC-12        TSI  \\\n",
              "0  1983      5  2.556  345.96  1638.59  303.677  191.324  350.113  1366.1024   \n",
              "1  1983      6  2.167  345.52  1633.71  303.746  192.057  351.848  1366.1208   \n",
              "2  1983      7  1.741  344.15  1633.22  303.795  192.818  353.725  1366.2850   \n",
              "3  1983      8  1.130  342.25  1631.35  303.839  193.602  355.633  1366.4202   \n",
              "4  1983      9  0.428  340.17  1648.40  303.901  194.392  357.465  1366.2335   \n",
              "\n",
              "   Aerosols   Temp  \n",
              "0    0.0863  0.109  \n",
              "1    0.0794  0.118  \n",
              "2    0.0731  0.137  \n",
              "3    0.0673  0.176  \n",
              "4    0.0619  0.149  "
            ],
            "text/html": [
              "\n",
              "  <div id=\"df-a6054a91-28ac-4549-90f5-5a458f170961\">\n",
              "    <div class=\"colab-df-container\">\n",
              "      <div>\n",
              "<style scoped>\n",
              "    .dataframe tbody tr th:only-of-type {\n",
              "        vertical-align: middle;\n",
              "    }\n",
              "\n",
              "    .dataframe tbody tr th {\n",
              "        vertical-align: top;\n",
              "    }\n",
              "\n",
              "    .dataframe thead th {\n",
              "        text-align: right;\n",
              "    }\n",
              "</style>\n",
              "<table border=\"1\" class=\"dataframe\">\n",
              "  <thead>\n",
              "    <tr style=\"text-align: right;\">\n",
              "      <th></th>\n",
              "      <th>Year</th>\n",
              "      <th>Month</th>\n",
              "      <th>MEI</th>\n",
              "      <th>CO2</th>\n",
              "      <th>CH4</th>\n",
              "      <th>N2O</th>\n",
              "      <th>CFC-11</th>\n",
              "      <th>CFC-12</th>\n",
              "      <th>TSI</th>\n",
              "      <th>Aerosols</th>\n",
              "      <th>Temp</th>\n",
              "    </tr>\n",
              "  </thead>\n",
              "  <tbody>\n",
              "    <tr>\n",
              "      <th>0</th>\n",
              "      <td>1983</td>\n",
              "      <td>5</td>\n",
              "      <td>2.556</td>\n",
              "      <td>345.96</td>\n",
              "      <td>1638.59</td>\n",
              "      <td>303.677</td>\n",
              "      <td>191.324</td>\n",
              "      <td>350.113</td>\n",
              "      <td>1366.1024</td>\n",
              "      <td>0.0863</td>\n",
              "      <td>0.109</td>\n",
              "    </tr>\n",
              "    <tr>\n",
              "      <th>1</th>\n",
              "      <td>1983</td>\n",
              "      <td>6</td>\n",
              "      <td>2.167</td>\n",
              "      <td>345.52</td>\n",
              "      <td>1633.71</td>\n",
              "      <td>303.746</td>\n",
              "      <td>192.057</td>\n",
              "      <td>351.848</td>\n",
              "      <td>1366.1208</td>\n",
              "      <td>0.0794</td>\n",
              "      <td>0.118</td>\n",
              "    </tr>\n",
              "    <tr>\n",
              "      <th>2</th>\n",
              "      <td>1983</td>\n",
              "      <td>7</td>\n",
              "      <td>1.741</td>\n",
              "      <td>344.15</td>\n",
              "      <td>1633.22</td>\n",
              "      <td>303.795</td>\n",
              "      <td>192.818</td>\n",
              "      <td>353.725</td>\n",
              "      <td>1366.2850</td>\n",
              "      <td>0.0731</td>\n",
              "      <td>0.137</td>\n",
              "    </tr>\n",
              "    <tr>\n",
              "      <th>3</th>\n",
              "      <td>1983</td>\n",
              "      <td>8</td>\n",
              "      <td>1.130</td>\n",
              "      <td>342.25</td>\n",
              "      <td>1631.35</td>\n",
              "      <td>303.839</td>\n",
              "      <td>193.602</td>\n",
              "      <td>355.633</td>\n",
              "      <td>1366.4202</td>\n",
              "      <td>0.0673</td>\n",
              "      <td>0.176</td>\n",
              "    </tr>\n",
              "    <tr>\n",
              "      <th>4</th>\n",
              "      <td>1983</td>\n",
              "      <td>9</td>\n",
              "      <td>0.428</td>\n",
              "      <td>340.17</td>\n",
              "      <td>1648.40</td>\n",
              "      <td>303.901</td>\n",
              "      <td>194.392</td>\n",
              "      <td>357.465</td>\n",
              "      <td>1366.2335</td>\n",
              "      <td>0.0619</td>\n",
              "      <td>0.149</td>\n",
              "    </tr>\n",
              "  </tbody>\n",
              "</table>\n",
              "</div>\n",
              "      <button class=\"colab-df-convert\" onclick=\"convertToInteractive('df-a6054a91-28ac-4549-90f5-5a458f170961')\"\n",
              "              title=\"Convert this dataframe to an interactive table.\"\n",
              "              style=\"display:none;\">\n",
              "        \n",
              "  <svg xmlns=\"http://www.w3.org/2000/svg\" height=\"24px\"viewBox=\"0 0 24 24\"\n",
              "       width=\"24px\">\n",
              "    <path d=\"M0 0h24v24H0V0z\" fill=\"none\"/>\n",
              "    <path d=\"M18.56 5.44l.94 2.06.94-2.06 2.06-.94-2.06-.94-.94-2.06-.94 2.06-2.06.94zm-11 1L8.5 8.5l.94-2.06 2.06-.94-2.06-.94L8.5 2.5l-.94 2.06-2.06.94zm10 10l.94 2.06.94-2.06 2.06-.94-2.06-.94-.94-2.06-.94 2.06-2.06.94z\"/><path d=\"M17.41 7.96l-1.37-1.37c-.4-.4-.92-.59-1.43-.59-.52 0-1.04.2-1.43.59L10.3 9.45l-7.72 7.72c-.78.78-.78 2.05 0 2.83L4 21.41c.39.39.9.59 1.41.59.51 0 1.02-.2 1.41-.59l7.78-7.78 2.81-2.81c.8-.78.8-2.07 0-2.86zM5.41 20L4 18.59l7.72-7.72 1.47 1.35L5.41 20z\"/>\n",
              "  </svg>\n",
              "      </button>\n",
              "      \n",
              "  <style>\n",
              "    .colab-df-container {\n",
              "      display:flex;\n",
              "      flex-wrap:wrap;\n",
              "      gap: 12px;\n",
              "    }\n",
              "\n",
              "    .colab-df-convert {\n",
              "      background-color: #E8F0FE;\n",
              "      border: none;\n",
              "      border-radius: 50%;\n",
              "      cursor: pointer;\n",
              "      display: none;\n",
              "      fill: #1967D2;\n",
              "      height: 32px;\n",
              "      padding: 0 0 0 0;\n",
              "      width: 32px;\n",
              "    }\n",
              "\n",
              "    .colab-df-convert:hover {\n",
              "      background-color: #E2EBFA;\n",
              "      box-shadow: 0px 1px 2px rgba(60, 64, 67, 0.3), 0px 1px 3px 1px rgba(60, 64, 67, 0.15);\n",
              "      fill: #174EA6;\n",
              "    }\n",
              "\n",
              "    [theme=dark] .colab-df-convert {\n",
              "      background-color: #3B4455;\n",
              "      fill: #D2E3FC;\n",
              "    }\n",
              "\n",
              "    [theme=dark] .colab-df-convert:hover {\n",
              "      background-color: #434B5C;\n",
              "      box-shadow: 0px 1px 3px 1px rgba(0, 0, 0, 0.15);\n",
              "      filter: drop-shadow(0px 1px 2px rgba(0, 0, 0, 0.3));\n",
              "      fill: #FFFFFF;\n",
              "    }\n",
              "  </style>\n",
              "\n",
              "      <script>\n",
              "        const buttonEl =\n",
              "          document.querySelector('#df-a6054a91-28ac-4549-90f5-5a458f170961 button.colab-df-convert');\n",
              "        buttonEl.style.display =\n",
              "          google.colab.kernel.accessAllowed ? 'block' : 'none';\n",
              "\n",
              "        async function convertToInteractive(key) {\n",
              "          const element = document.querySelector('#df-a6054a91-28ac-4549-90f5-5a458f170961');\n",
              "          const dataTable =\n",
              "            await google.colab.kernel.invokeFunction('convertToInteractive',\n",
              "                                                     [key], {});\n",
              "          if (!dataTable) return;\n",
              "\n",
              "          const docLinkHtml = 'Like what you see? Visit the ' +\n",
              "            '<a target=\"_blank\" href=https://colab.research.google.com/notebooks/data_table.ipynb>data table notebook</a>'\n",
              "            + ' to learn more about interactive tables.';\n",
              "          element.innerHTML = '';\n",
              "          dataTable['output_type'] = 'display_data';\n",
              "          await google.colab.output.renderOutput(dataTable, element);\n",
              "          const docLink = document.createElement('div');\n",
              "          docLink.innerHTML = docLinkHtml;\n",
              "          element.appendChild(docLink);\n",
              "        }\n",
              "      </script>\n",
              "    </div>\n",
              "  </div>\n",
              "  "
            ]
          },
          "metadata": {},
          "execution_count": 3
        }
      ]
    },
    {
      "cell_type": "code",
      "source": [
        "data.tail()"
      ],
      "metadata": {
        "colab": {
          "base_uri": "https://localhost:8080/",
          "height": 206
        },
        "id": "RedNWn9Uz6Rh",
        "outputId": "4824bd7a-f63f-4c0e-ee72-f6d784229567"
      },
      "execution_count": 4,
      "outputs": [
        {
          "output_type": "execute_result",
          "data": {
            "text/plain": [
              "     Year  Month    MEI     CO2      CH4      N2O   CFC-11   CFC-12  \\\n",
              "303  2008      8 -0.266  384.15  1779.88  321.405  244.200  535.072   \n",
              "304  2008      9 -0.643  383.09  1795.08  321.529  244.083  535.048   \n",
              "305  2008     10 -0.780  382.99  1814.18  321.796  244.080  534.927   \n",
              "306  2008     11 -0.621  384.13  1812.37  322.013  244.225  534.906   \n",
              "307  2008     12 -0.666  385.56  1812.88  322.182  244.204  535.005   \n",
              "\n",
              "           TSI  Aerosols   Temp  \n",
              "303  1365.6570    0.0036  0.407  \n",
              "304  1365.6647    0.0043  0.378  \n",
              "305  1365.6759    0.0046  0.440  \n",
              "306  1365.7065    0.0048  0.394  \n",
              "307  1365.6926    0.0046  0.330  "
            ],
            "text/html": [
              "\n",
              "  <div id=\"df-dc77ec93-1c23-4ed4-999c-cec01826214a\">\n",
              "    <div class=\"colab-df-container\">\n",
              "      <div>\n",
              "<style scoped>\n",
              "    .dataframe tbody tr th:only-of-type {\n",
              "        vertical-align: middle;\n",
              "    }\n",
              "\n",
              "    .dataframe tbody tr th {\n",
              "        vertical-align: top;\n",
              "    }\n",
              "\n",
              "    .dataframe thead th {\n",
              "        text-align: right;\n",
              "    }\n",
              "</style>\n",
              "<table border=\"1\" class=\"dataframe\">\n",
              "  <thead>\n",
              "    <tr style=\"text-align: right;\">\n",
              "      <th></th>\n",
              "      <th>Year</th>\n",
              "      <th>Month</th>\n",
              "      <th>MEI</th>\n",
              "      <th>CO2</th>\n",
              "      <th>CH4</th>\n",
              "      <th>N2O</th>\n",
              "      <th>CFC-11</th>\n",
              "      <th>CFC-12</th>\n",
              "      <th>TSI</th>\n",
              "      <th>Aerosols</th>\n",
              "      <th>Temp</th>\n",
              "    </tr>\n",
              "  </thead>\n",
              "  <tbody>\n",
              "    <tr>\n",
              "      <th>303</th>\n",
              "      <td>2008</td>\n",
              "      <td>8</td>\n",
              "      <td>-0.266</td>\n",
              "      <td>384.15</td>\n",
              "      <td>1779.88</td>\n",
              "      <td>321.405</td>\n",
              "      <td>244.200</td>\n",
              "      <td>535.072</td>\n",
              "      <td>1365.6570</td>\n",
              "      <td>0.0036</td>\n",
              "      <td>0.407</td>\n",
              "    </tr>\n",
              "    <tr>\n",
              "      <th>304</th>\n",
              "      <td>2008</td>\n",
              "      <td>9</td>\n",
              "      <td>-0.643</td>\n",
              "      <td>383.09</td>\n",
              "      <td>1795.08</td>\n",
              "      <td>321.529</td>\n",
              "      <td>244.083</td>\n",
              "      <td>535.048</td>\n",
              "      <td>1365.6647</td>\n",
              "      <td>0.0043</td>\n",
              "      <td>0.378</td>\n",
              "    </tr>\n",
              "    <tr>\n",
              "      <th>305</th>\n",
              "      <td>2008</td>\n",
              "      <td>10</td>\n",
              "      <td>-0.780</td>\n",
              "      <td>382.99</td>\n",
              "      <td>1814.18</td>\n",
              "      <td>321.796</td>\n",
              "      <td>244.080</td>\n",
              "      <td>534.927</td>\n",
              "      <td>1365.6759</td>\n",
              "      <td>0.0046</td>\n",
              "      <td>0.440</td>\n",
              "    </tr>\n",
              "    <tr>\n",
              "      <th>306</th>\n",
              "      <td>2008</td>\n",
              "      <td>11</td>\n",
              "      <td>-0.621</td>\n",
              "      <td>384.13</td>\n",
              "      <td>1812.37</td>\n",
              "      <td>322.013</td>\n",
              "      <td>244.225</td>\n",
              "      <td>534.906</td>\n",
              "      <td>1365.7065</td>\n",
              "      <td>0.0048</td>\n",
              "      <td>0.394</td>\n",
              "    </tr>\n",
              "    <tr>\n",
              "      <th>307</th>\n",
              "      <td>2008</td>\n",
              "      <td>12</td>\n",
              "      <td>-0.666</td>\n",
              "      <td>385.56</td>\n",
              "      <td>1812.88</td>\n",
              "      <td>322.182</td>\n",
              "      <td>244.204</td>\n",
              "      <td>535.005</td>\n",
              "      <td>1365.6926</td>\n",
              "      <td>0.0046</td>\n",
              "      <td>0.330</td>\n",
              "    </tr>\n",
              "  </tbody>\n",
              "</table>\n",
              "</div>\n",
              "      <button class=\"colab-df-convert\" onclick=\"convertToInteractive('df-dc77ec93-1c23-4ed4-999c-cec01826214a')\"\n",
              "              title=\"Convert this dataframe to an interactive table.\"\n",
              "              style=\"display:none;\">\n",
              "        \n",
              "  <svg xmlns=\"http://www.w3.org/2000/svg\" height=\"24px\"viewBox=\"0 0 24 24\"\n",
              "       width=\"24px\">\n",
              "    <path d=\"M0 0h24v24H0V0z\" fill=\"none\"/>\n",
              "    <path d=\"M18.56 5.44l.94 2.06.94-2.06 2.06-.94-2.06-.94-.94-2.06-.94 2.06-2.06.94zm-11 1L8.5 8.5l.94-2.06 2.06-.94-2.06-.94L8.5 2.5l-.94 2.06-2.06.94zm10 10l.94 2.06.94-2.06 2.06-.94-2.06-.94-.94-2.06-.94 2.06-2.06.94z\"/><path d=\"M17.41 7.96l-1.37-1.37c-.4-.4-.92-.59-1.43-.59-.52 0-1.04.2-1.43.59L10.3 9.45l-7.72 7.72c-.78.78-.78 2.05 0 2.83L4 21.41c.39.39.9.59 1.41.59.51 0 1.02-.2 1.41-.59l7.78-7.78 2.81-2.81c.8-.78.8-2.07 0-2.86zM5.41 20L4 18.59l7.72-7.72 1.47 1.35L5.41 20z\"/>\n",
              "  </svg>\n",
              "      </button>\n",
              "      \n",
              "  <style>\n",
              "    .colab-df-container {\n",
              "      display:flex;\n",
              "      flex-wrap:wrap;\n",
              "      gap: 12px;\n",
              "    }\n",
              "\n",
              "    .colab-df-convert {\n",
              "      background-color: #E8F0FE;\n",
              "      border: none;\n",
              "      border-radius: 50%;\n",
              "      cursor: pointer;\n",
              "      display: none;\n",
              "      fill: #1967D2;\n",
              "      height: 32px;\n",
              "      padding: 0 0 0 0;\n",
              "      width: 32px;\n",
              "    }\n",
              "\n",
              "    .colab-df-convert:hover {\n",
              "      background-color: #E2EBFA;\n",
              "      box-shadow: 0px 1px 2px rgba(60, 64, 67, 0.3), 0px 1px 3px 1px rgba(60, 64, 67, 0.15);\n",
              "      fill: #174EA6;\n",
              "    }\n",
              "\n",
              "    [theme=dark] .colab-df-convert {\n",
              "      background-color: #3B4455;\n",
              "      fill: #D2E3FC;\n",
              "    }\n",
              "\n",
              "    [theme=dark] .colab-df-convert:hover {\n",
              "      background-color: #434B5C;\n",
              "      box-shadow: 0px 1px 3px 1px rgba(0, 0, 0, 0.15);\n",
              "      filter: drop-shadow(0px 1px 2px rgba(0, 0, 0, 0.3));\n",
              "      fill: #FFFFFF;\n",
              "    }\n",
              "  </style>\n",
              "\n",
              "      <script>\n",
              "        const buttonEl =\n",
              "          document.querySelector('#df-dc77ec93-1c23-4ed4-999c-cec01826214a button.colab-df-convert');\n",
              "        buttonEl.style.display =\n",
              "          google.colab.kernel.accessAllowed ? 'block' : 'none';\n",
              "\n",
              "        async function convertToInteractive(key) {\n",
              "          const element = document.querySelector('#df-dc77ec93-1c23-4ed4-999c-cec01826214a');\n",
              "          const dataTable =\n",
              "            await google.colab.kernel.invokeFunction('convertToInteractive',\n",
              "                                                     [key], {});\n",
              "          if (!dataTable) return;\n",
              "\n",
              "          const docLinkHtml = 'Like what you see? Visit the ' +\n",
              "            '<a target=\"_blank\" href=https://colab.research.google.com/notebooks/data_table.ipynb>data table notebook</a>'\n",
              "            + ' to learn more about interactive tables.';\n",
              "          element.innerHTML = '';\n",
              "          dataTable['output_type'] = 'display_data';\n",
              "          await google.colab.output.renderOutput(dataTable, element);\n",
              "          const docLink = document.createElement('div');\n",
              "          docLink.innerHTML = docLinkHtml;\n",
              "          element.appendChild(docLink);\n",
              "        }\n",
              "      </script>\n",
              "    </div>\n",
              "  </div>\n",
              "  "
            ]
          },
          "metadata": {},
          "execution_count": 4
        }
      ]
    },
    {
      "cell_type": "code",
      "source": [
        "data.shape\n",
        "#rows, columns"
      ],
      "metadata": {
        "colab": {
          "base_uri": "https://localhost:8080/"
        },
        "id": "ltDKavIk0GTZ",
        "outputId": "fc4bb1a5-7495-4829-e3e4-07823fa4ddd3"
      },
      "execution_count": 5,
      "outputs": [
        {
          "output_type": "execute_result",
          "data": {
            "text/plain": [
              "(308, 11)"
            ]
          },
          "metadata": {},
          "execution_count": 5
        }
      ]
    },
    {
      "cell_type": "code",
      "source": [
        "data.describe()"
      ],
      "metadata": {
        "colab": {
          "base_uri": "https://localhost:8080/",
          "height": 300
        },
        "id": "8oHWKZo_0Ly5",
        "outputId": "5ec02957-2eab-4fbf-fcc8-a0c5deb0db4b"
      },
      "execution_count": 6,
      "outputs": [
        {
          "output_type": "execute_result",
          "data": {
            "text/plain": [
              "              Year       Month         MEI         CO2          CH4  \\\n",
              "count   308.000000  308.000000  308.000000  308.000000   308.000000   \n",
              "mean   1995.662338    6.551948    0.275555  363.226753  1749.824513   \n",
              "std       7.423197    3.447214    0.937918   12.647125    46.051678   \n",
              "min    1983.000000    1.000000   -1.635000  340.170000  1629.890000   \n",
              "25%    1989.000000    4.000000   -0.398750  353.020000  1722.182500   \n",
              "50%    1996.000000    7.000000    0.237500  361.735000  1764.040000   \n",
              "75%    2002.000000   10.000000    0.830500  373.455000  1786.885000   \n",
              "max    2008.000000   12.000000    3.001000  388.500000  1814.180000   \n",
              "\n",
              "              N2O      CFC-11      CFC-12          TSI    Aerosols        Temp  \n",
              "count  308.000000  308.000000  308.000000   308.000000  308.000000  308.000000  \n",
              "mean   312.391834  251.973068  497.524782  1366.070759    0.016657    0.256776  \n",
              "std      5.225131   20.231783   57.826899     0.399610    0.029050    0.179090  \n",
              "min    303.677000  191.324000  350.113000  1365.426100    0.001600   -0.282000  \n",
              "25%    308.111500  246.295500  472.410750  1365.717050    0.002800    0.121750  \n",
              "50%    311.507000  258.344000  528.356000  1365.980900    0.005750    0.248000  \n",
              "75%    316.979000  267.031000  540.524250  1366.363250    0.012600    0.407250  \n",
              "max    322.182000  271.494000  543.813000  1367.316200    0.149400    0.739000  "
            ],
            "text/html": [
              "\n",
              "  <div id=\"df-b2569907-fb59-40d0-be15-747ec040040a\">\n",
              "    <div class=\"colab-df-container\">\n",
              "      <div>\n",
              "<style scoped>\n",
              "    .dataframe tbody tr th:only-of-type {\n",
              "        vertical-align: middle;\n",
              "    }\n",
              "\n",
              "    .dataframe tbody tr th {\n",
              "        vertical-align: top;\n",
              "    }\n",
              "\n",
              "    .dataframe thead th {\n",
              "        text-align: right;\n",
              "    }\n",
              "</style>\n",
              "<table border=\"1\" class=\"dataframe\">\n",
              "  <thead>\n",
              "    <tr style=\"text-align: right;\">\n",
              "      <th></th>\n",
              "      <th>Year</th>\n",
              "      <th>Month</th>\n",
              "      <th>MEI</th>\n",
              "      <th>CO2</th>\n",
              "      <th>CH4</th>\n",
              "      <th>N2O</th>\n",
              "      <th>CFC-11</th>\n",
              "      <th>CFC-12</th>\n",
              "      <th>TSI</th>\n",
              "      <th>Aerosols</th>\n",
              "      <th>Temp</th>\n",
              "    </tr>\n",
              "  </thead>\n",
              "  <tbody>\n",
              "    <tr>\n",
              "      <th>count</th>\n",
              "      <td>308.000000</td>\n",
              "      <td>308.000000</td>\n",
              "      <td>308.000000</td>\n",
              "      <td>308.000000</td>\n",
              "      <td>308.000000</td>\n",
              "      <td>308.000000</td>\n",
              "      <td>308.000000</td>\n",
              "      <td>308.000000</td>\n",
              "      <td>308.000000</td>\n",
              "      <td>308.000000</td>\n",
              "      <td>308.000000</td>\n",
              "    </tr>\n",
              "    <tr>\n",
              "      <th>mean</th>\n",
              "      <td>1995.662338</td>\n",
              "      <td>6.551948</td>\n",
              "      <td>0.275555</td>\n",
              "      <td>363.226753</td>\n",
              "      <td>1749.824513</td>\n",
              "      <td>312.391834</td>\n",
              "      <td>251.973068</td>\n",
              "      <td>497.524782</td>\n",
              "      <td>1366.070759</td>\n",
              "      <td>0.016657</td>\n",
              "      <td>0.256776</td>\n",
              "    </tr>\n",
              "    <tr>\n",
              "      <th>std</th>\n",
              "      <td>7.423197</td>\n",
              "      <td>3.447214</td>\n",
              "      <td>0.937918</td>\n",
              "      <td>12.647125</td>\n",
              "      <td>46.051678</td>\n",
              "      <td>5.225131</td>\n",
              "      <td>20.231783</td>\n",
              "      <td>57.826899</td>\n",
              "      <td>0.399610</td>\n",
              "      <td>0.029050</td>\n",
              "      <td>0.179090</td>\n",
              "    </tr>\n",
              "    <tr>\n",
              "      <th>min</th>\n",
              "      <td>1983.000000</td>\n",
              "      <td>1.000000</td>\n",
              "      <td>-1.635000</td>\n",
              "      <td>340.170000</td>\n",
              "      <td>1629.890000</td>\n",
              "      <td>303.677000</td>\n",
              "      <td>191.324000</td>\n",
              "      <td>350.113000</td>\n",
              "      <td>1365.426100</td>\n",
              "      <td>0.001600</td>\n",
              "      <td>-0.282000</td>\n",
              "    </tr>\n",
              "    <tr>\n",
              "      <th>25%</th>\n",
              "      <td>1989.000000</td>\n",
              "      <td>4.000000</td>\n",
              "      <td>-0.398750</td>\n",
              "      <td>353.020000</td>\n",
              "      <td>1722.182500</td>\n",
              "      <td>308.111500</td>\n",
              "      <td>246.295500</td>\n",
              "      <td>472.410750</td>\n",
              "      <td>1365.717050</td>\n",
              "      <td>0.002800</td>\n",
              "      <td>0.121750</td>\n",
              "    </tr>\n",
              "    <tr>\n",
              "      <th>50%</th>\n",
              "      <td>1996.000000</td>\n",
              "      <td>7.000000</td>\n",
              "      <td>0.237500</td>\n",
              "      <td>361.735000</td>\n",
              "      <td>1764.040000</td>\n",
              "      <td>311.507000</td>\n",
              "      <td>258.344000</td>\n",
              "      <td>528.356000</td>\n",
              "      <td>1365.980900</td>\n",
              "      <td>0.005750</td>\n",
              "      <td>0.248000</td>\n",
              "    </tr>\n",
              "    <tr>\n",
              "      <th>75%</th>\n",
              "      <td>2002.000000</td>\n",
              "      <td>10.000000</td>\n",
              "      <td>0.830500</td>\n",
              "      <td>373.455000</td>\n",
              "      <td>1786.885000</td>\n",
              "      <td>316.979000</td>\n",
              "      <td>267.031000</td>\n",
              "      <td>540.524250</td>\n",
              "      <td>1366.363250</td>\n",
              "      <td>0.012600</td>\n",
              "      <td>0.407250</td>\n",
              "    </tr>\n",
              "    <tr>\n",
              "      <th>max</th>\n",
              "      <td>2008.000000</td>\n",
              "      <td>12.000000</td>\n",
              "      <td>3.001000</td>\n",
              "      <td>388.500000</td>\n",
              "      <td>1814.180000</td>\n",
              "      <td>322.182000</td>\n",
              "      <td>271.494000</td>\n",
              "      <td>543.813000</td>\n",
              "      <td>1367.316200</td>\n",
              "      <td>0.149400</td>\n",
              "      <td>0.739000</td>\n",
              "    </tr>\n",
              "  </tbody>\n",
              "</table>\n",
              "</div>\n",
              "      <button class=\"colab-df-convert\" onclick=\"convertToInteractive('df-b2569907-fb59-40d0-be15-747ec040040a')\"\n",
              "              title=\"Convert this dataframe to an interactive table.\"\n",
              "              style=\"display:none;\">\n",
              "        \n",
              "  <svg xmlns=\"http://www.w3.org/2000/svg\" height=\"24px\"viewBox=\"0 0 24 24\"\n",
              "       width=\"24px\">\n",
              "    <path d=\"M0 0h24v24H0V0z\" fill=\"none\"/>\n",
              "    <path d=\"M18.56 5.44l.94 2.06.94-2.06 2.06-.94-2.06-.94-.94-2.06-.94 2.06-2.06.94zm-11 1L8.5 8.5l.94-2.06 2.06-.94-2.06-.94L8.5 2.5l-.94 2.06-2.06.94zm10 10l.94 2.06.94-2.06 2.06-.94-2.06-.94-.94-2.06-.94 2.06-2.06.94z\"/><path d=\"M17.41 7.96l-1.37-1.37c-.4-.4-.92-.59-1.43-.59-.52 0-1.04.2-1.43.59L10.3 9.45l-7.72 7.72c-.78.78-.78 2.05 0 2.83L4 21.41c.39.39.9.59 1.41.59.51 0 1.02-.2 1.41-.59l7.78-7.78 2.81-2.81c.8-.78.8-2.07 0-2.86zM5.41 20L4 18.59l7.72-7.72 1.47 1.35L5.41 20z\"/>\n",
              "  </svg>\n",
              "      </button>\n",
              "      \n",
              "  <style>\n",
              "    .colab-df-container {\n",
              "      display:flex;\n",
              "      flex-wrap:wrap;\n",
              "      gap: 12px;\n",
              "    }\n",
              "\n",
              "    .colab-df-convert {\n",
              "      background-color: #E8F0FE;\n",
              "      border: none;\n",
              "      border-radius: 50%;\n",
              "      cursor: pointer;\n",
              "      display: none;\n",
              "      fill: #1967D2;\n",
              "      height: 32px;\n",
              "      padding: 0 0 0 0;\n",
              "      width: 32px;\n",
              "    }\n",
              "\n",
              "    .colab-df-convert:hover {\n",
              "      background-color: #E2EBFA;\n",
              "      box-shadow: 0px 1px 2px rgba(60, 64, 67, 0.3), 0px 1px 3px 1px rgba(60, 64, 67, 0.15);\n",
              "      fill: #174EA6;\n",
              "    }\n",
              "\n",
              "    [theme=dark] .colab-df-convert {\n",
              "      background-color: #3B4455;\n",
              "      fill: #D2E3FC;\n",
              "    }\n",
              "\n",
              "    [theme=dark] .colab-df-convert:hover {\n",
              "      background-color: #434B5C;\n",
              "      box-shadow: 0px 1px 3px 1px rgba(0, 0, 0, 0.15);\n",
              "      filter: drop-shadow(0px 1px 2px rgba(0, 0, 0, 0.3));\n",
              "      fill: #FFFFFF;\n",
              "    }\n",
              "  </style>\n",
              "\n",
              "      <script>\n",
              "        const buttonEl =\n",
              "          document.querySelector('#df-b2569907-fb59-40d0-be15-747ec040040a button.colab-df-convert');\n",
              "        buttonEl.style.display =\n",
              "          google.colab.kernel.accessAllowed ? 'block' : 'none';\n",
              "\n",
              "        async function convertToInteractive(key) {\n",
              "          const element = document.querySelector('#df-b2569907-fb59-40d0-be15-747ec040040a');\n",
              "          const dataTable =\n",
              "            await google.colab.kernel.invokeFunction('convertToInteractive',\n",
              "                                                     [key], {});\n",
              "          if (!dataTable) return;\n",
              "\n",
              "          const docLinkHtml = 'Like what you see? Visit the ' +\n",
              "            '<a target=\"_blank\" href=https://colab.research.google.com/notebooks/data_table.ipynb>data table notebook</a>'\n",
              "            + ' to learn more about interactive tables.';\n",
              "          element.innerHTML = '';\n",
              "          dataTable['output_type'] = 'display_data';\n",
              "          await google.colab.output.renderOutput(dataTable, element);\n",
              "          const docLink = document.createElement('div');\n",
              "          docLink.innerHTML = docLinkHtml;\n",
              "          element.appendChild(docLink);\n",
              "        }\n",
              "      </script>\n",
              "    </div>\n",
              "  </div>\n",
              "  "
            ]
          },
          "metadata": {},
          "execution_count": 6
        }
      ]
    },
    {
      "cell_type": "code",
      "source": [
        "# trying to understand the features\n",
        "data.columns"
      ],
      "metadata": {
        "colab": {
          "base_uri": "https://localhost:8080/"
        },
        "id": "afju3hQq0Z8Q",
        "outputId": "b390d3ea-6475-45a9-9957-815f703618f8"
      },
      "execution_count": 7,
      "outputs": [
        {
          "output_type": "execute_result",
          "data": {
            "text/plain": [
              "Index(['Year', 'Month', 'MEI', 'CO2', 'CH4', 'N2O', 'CFC-11', 'CFC-12', 'TSI',\n",
              "       'Aerosols', 'Temp'],\n",
              "      dtype='object')"
            ]
          },
          "metadata": {},
          "execution_count": 7
        }
      ]
    },
    {
      "cell_type": "code",
      "source": [
        "data.nunique()\n",
        "#number of unique values for each attribute"
      ],
      "metadata": {
        "id": "fuSfnV9V0lbY",
        "colab": {
          "base_uri": "https://localhost:8080/"
        },
        "outputId": "0cb447a4-ad18-45a9-eaae-8a3160f366e1"
      },
      "execution_count": 8,
      "outputs": [
        {
          "output_type": "execute_result",
          "data": {
            "text/plain": [
              "Year         26\n",
              "Month        12\n",
              "MEI         294\n",
              "CO2         298\n",
              "CH4         303\n",
              "N2O         304\n",
              "CFC-11      307\n",
              "CFC-12      307\n",
              "TSI         302\n",
              "Aerosols    155\n",
              "Temp        242\n",
              "dtype: int64"
            ]
          },
          "metadata": {},
          "execution_count": 8
        }
      ]
    },
    {
      "cell_type": "code",
      "source": [
        "# lets see as to how clean is the dataset\n",
        "data.isnull().sum()"
      ],
      "metadata": {
        "colab": {
          "base_uri": "https://localhost:8080/"
        },
        "id": "zXe24zwHg8yo",
        "outputId": "71c42420-563f-4ead-bce7-a33601c7a5f1"
      },
      "execution_count": 9,
      "outputs": [
        {
          "output_type": "execute_result",
          "data": {
            "text/plain": [
              "Year        0\n",
              "Month       0\n",
              "MEI         0\n",
              "CO2         0\n",
              "CH4         0\n",
              "N2O         0\n",
              "CFC-11      0\n",
              "CFC-12      0\n",
              "TSI         0\n",
              "Aerosols    0\n",
              "Temp        0\n",
              "dtype: int64"
            ]
          },
          "metadata": {},
          "execution_count": 9
        }
      ]
    },
    {
      "cell_type": "code",
      "source": [
        "# therefore we have no value which has any null value\n",
        "# the dataset is already clean; therfore no need of any cleaning"
      ],
      "metadata": {
        "id": "fG2zIffW2YEf"
      },
      "execution_count": 10,
      "outputs": []
    },
    {
      "cell_type": "code",
      "source": [
        "# now that the dataset is cleaned; lets ttry to figure out a relationship between the atributes"
      ],
      "metadata": {
        "id": "21jl0Ly_2kEY"
      },
      "execution_count": 11,
      "outputs": []
    },
    {
      "cell_type": "code",
      "source": [
        "correl = data.corr()"
      ],
      "metadata": {
        "id": "078WLQkK3UzA"
      },
      "execution_count": 12,
      "outputs": []
    },
    {
      "cell_type": "code",
      "source": [
        "sns.heatmap(correl,xticklabels=correl.columns, yticklabels=correl.columns, annot=True)"
      ],
      "metadata": {
        "colab": {
          "base_uri": "https://localhost:8080/",
          "height": 319
        },
        "id": "7yPd2Si63ZGH",
        "outputId": "ca80f952-045a-41dc-a45a-4694d334ff92"
      },
      "execution_count": 13,
      "outputs": [
        {
          "output_type": "execute_result",
          "data": {
            "text/plain": [
              "<matplotlib.axes._subplots.AxesSubplot at 0x7fd36b5ac710>"
            ]
          },
          "metadata": {},
          "execution_count": 13
        },
        {
          "output_type": "display_data",
          "data": {
            "text/plain": [
              "<Figure size 432x288 with 2 Axes>"
            ],
            "image/png": "[encoded data removed]"
          },
          "metadata": {
            "needs_background": "light"
          }
        }
      ]
    },
    {
      "cell_type": "markdown",
      "source": [
        "PART 1"
      ],
      "metadata": {
        "id": "TaD9rA91jKna"
      }
    },
    {
      "cell_type": "code",
      "source": [
        "import numpy as np\n",
        "import pandas as pd\n",
        "import seaborn as sns\n",
        "import matplotlib.pyplot as plt\n",
        "from sklearn import preprocessing, svm\n",
        "from sklearn.model_selection import train_test_split\n",
        "from sklearn.linear_model import LinearRegression"
      ],
      "metadata": {
        "id": "vODOQWiMjJw1"
      },
      "execution_count": 14,
      "outputs": []
    },
    {
      "cell_type": "code",
      "source": [
        "data.columns"
      ],
      "metadata": {
        "colab": {
          "base_uri": "https://localhost:8080/"
        },
        "id": "ZsVJVJQWkzrw",
        "outputId": "9ec19c8b-613f-44bb-8c60-309d1504134a"
      },
      "execution_count": 15,
      "outputs": [
        {
          "output_type": "execute_result",
          "data": {
            "text/plain": [
              "Index(['Year', 'Month', 'MEI', 'CO2', 'CH4', 'N2O', 'CFC-11', 'CFC-12', 'TSI',\n",
              "       'Aerosols', 'Temp'],\n",
              "      dtype='object')"
            ]
          },
          "metadata": {},
          "execution_count": 15
        }
      ]
    },
    {
      "cell_type": "code",
      "source": [
        "#Extracting independent and dependent Variable  \n",
        "x= data.iloc[:, [0,1,2,3,4,5,6,7,8,9]].values  \n",
        "y= data.iloc[:, 10].values  "
      ],
      "metadata": {
        "id": "jQnIFZgjj1pc"
      },
      "execution_count": 16,
      "outputs": []
    },
    {
      "cell_type": "code",
      "source": [
        "print(x)"
      ],
      "metadata": {
        "colab": {
          "base_uri": "https://localhost:8080/"
        },
        "id": "tHJco7lHkwPq",
        "outputId": "1a67d961-96b6-4fe4-c2b8-866a38ddd72d"
      },
      "execution_count": 17,
      "outputs": [
        {
          "output_type": "stream",
          "name": "stdout",
          "text": [
            "[[ 1.9830000e+03  5.0000000e+00  2.5560000e+00 ...  3.5011300e+02\n",
            "   1.3661024e+03  8.6300000e-02]\n",
            " [ 1.9830000e+03  6.0000000e+00  2.1670000e+00 ...  3.5184800e+02\n",
            "   1.3661208e+03  7.9400000e-02]\n",
            " [ 1.9830000e+03  7.0000000e+00  1.7410000e+00 ...  3.5372500e+02\n",
            "   1.3662850e+03  7.3100000e-02]\n",
            " ...\n",
            " [ 2.0080000e+03  1.0000000e+01 -7.8000000e-01 ...  5.3492700e+02\n",
            "   1.3656759e+03  4.6000000e-03]\n",
            " [ 2.0080000e+03  1.1000000e+01 -6.2100000e-01 ...  5.3490600e+02\n",
            "   1.3657065e+03  4.8000000e-03]\n",
            " [ 2.0080000e+03  1.2000000e+01 -6.6600000e-01 ...  5.3500500e+02\n",
            "   1.3656926e+03  4.6000000e-03]]\n"
          ]
        }
      ]
    },
    {
      "cell_type": "code",
      "source": [
        "print(y)"
      ],
      "metadata": {
        "colab": {
          "base_uri": "https://localhost:8080/"
        },
        "id": "5kbLFxFukxdw",
        "outputId": "a098e749-fbcf-461a-a059-e6d0eb18cdfc"
      },
      "execution_count": 18,
      "outputs": [
        {
          "output_type": "stream",
          "name": "stdout",
          "text": [
            "[ 0.109  0.118  0.137  0.176  0.149  0.093  0.232  0.078  0.089  0.013\n",
            "  0.049 -0.019  0.065 -0.016 -0.024  0.034  0.025 -0.035 -0.123 -0.282\n",
            " -0.001 -0.155 -0.032 -0.042  0.001 -0.049 -0.042  0.013 -0.035 -0.008\n",
            " -0.093 -0.002  0.121  0.065  0.049  0.045  0.023  0.055  0.004 -0.001\n",
            "  0.016  0.043 -0.033  0.022  0.116  0.266  0.021  0.084  0.145  0.121\n",
            "  0.238  0.219  0.25   0.174  0.186  0.314  0.334  0.189  0.248  0.224\n",
            "  0.175  0.2    0.168  0.154  0.149  0.12   0.027  0.106  0.019  0.094\n",
            "  0.088  0.083  0.073  0.094  0.167  0.168  0.135  0.145  0.067  0.181\n",
            "  0.187  0.242  0.442  0.285  0.231  0.233  0.196  0.227  0.179  0.271\n",
            "  0.278  0.199  0.224  0.272  0.161  0.299  0.249  0.269  0.271  0.225\n",
            "  0.176  0.133  0.079  0.084  0.266  0.25   0.199  0.132  0.125  0.118\n",
            " -0.008 -0.007 -0.062 -0.072 -0.097  0.007  0.204  0.161  0.202  0.121\n",
            "  0.158  0.122  0.088  0.06   0.013  0.061 -0.041  0.111  0.16  -0.072\n",
            "  0.176  0.173  0.218  0.191  0.141  0.175  0.156  0.23   0.248  0.227\n",
            "  0.349  0.449  0.286  0.229  0.176  0.283  0.276  0.305  0.21   0.241\n",
            "  0.266  0.163  0.069  0.246  0.13   0.097  0.177  0.159  0.177  0.178\n",
            "  0.093  0.089  0.077  0.172  0.156  0.247  0.262  0.201  0.254  0.367\n",
            "  0.372  0.406  0.457  0.485  0.449  0.526  0.486  0.739  0.52   0.608\n",
            "  0.57   0.579  0.651  0.616  0.4    0.409  0.342  0.424  0.366  0.54\n",
            "  0.29   0.322  0.248  0.266  0.282  0.253  0.274  0.241  0.223  0.338\n",
            "  0.212  0.363  0.334  0.446  0.271  0.252  0.261  0.338  0.309  0.213\n",
            "  0.159  0.179  0.329  0.289  0.475  0.426  0.399  0.416  0.452  0.498\n",
            "  0.405  0.378  0.491  0.323  0.568  0.593  0.586  0.443  0.432  0.455\n",
            "  0.462  0.417  0.413  0.362  0.397  0.326  0.514  0.427  0.418  0.408\n",
            "  0.439  0.437  0.457  0.514  0.499  0.55   0.419  0.519  0.496  0.56\n",
            "  0.501  0.484  0.323  0.35   0.38   0.418  0.442  0.468  0.521  0.381\n",
            "  0.452  0.364  0.493  0.53   0.476  0.506  0.532  0.502  0.498  0.495\n",
            "  0.478  0.366  0.32   0.435  0.38   0.378  0.352  0.442  0.456  0.482\n",
            "  0.425  0.472  0.44   0.518  0.601  0.498  0.435  0.466  0.372  0.382\n",
            "  0.394  0.358  0.402  0.362  0.266  0.226  0.074  0.198  0.447  0.278\n",
            "  0.283  0.315  0.406  0.407  0.378  0.44   0.394  0.33 ]\n"
          ]
        }
      ]
    },
    {
      "cell_type": "code",
      "source": [
        "x_train, x_test, y_train, y_test = train_test_split(x, y, test_size = 0.25)"
      ],
      "metadata": {
        "id": "jFhMq12hk8P7"
      },
      "execution_count": 19,
      "outputs": []
    },
    {
      "cell_type": "code",
      "source": [
        "regr = LinearRegression()\n",
        "  \n",
        "regr.fit(x_train, y_train)\n",
        "print(regr.score(x_test, y_test))"
      ],
      "metadata": {
        "colab": {
          "base_uri": "https://localhost:8080/"
        },
        "id": "TNzXZjI9lBA1",
        "outputId": "88320b6a-13b5-4722-a553-98ee250314a0"
      },
      "execution_count": 20,
      "outputs": [
        {
          "output_type": "stream",
          "name": "stdout",
          "text": [
            "0.6978600074211199\n"
          ]
        }
      ]
    },
    {
      "cell_type": "code",
      "source": [
        "x_test.shape"
      ],
      "metadata": {
        "colab": {
          "base_uri": "https://localhost:8080/"
        },
        "id": "1noiHsrGl8iZ",
        "outputId": "9c05625f-fab5-4a5a-f693-819bcb8df008"
      },
      "execution_count": 21,
      "outputs": [
        {
          "output_type": "execute_result",
          "data": {
            "text/plain": [
              "(77, 10)"
            ]
          },
          "metadata": {},
          "execution_count": 21
        }
      ]
    },
    {
      "cell_type": "code",
      "source": [
        "y_test.shape"
      ],
      "metadata": {
        "colab": {
          "base_uri": "https://localhost:8080/"
        },
        "id": "eq6iGRPOmLjH",
        "outputId": "9123c622-6507-49dc-a984-47c4e200e603"
      },
      "execution_count": 22,
      "outputs": [
        {
          "output_type": "execute_result",
          "data": {
            "text/plain": [
              "(77,)"
            ]
          },
          "metadata": {},
          "execution_count": 22
        }
      ]
    },
    {
      "cell_type": "code",
      "source": [
        "y_pred = regr.predict(x_test)"
      ],
      "metadata": {
        "id": "j9spQotHlNty"
      },
      "execution_count": 23,
      "outputs": []
    },
    {
      "cell_type": "code",
      "source": [
        "g=plt.scatter(y_test, y_pred)"
      ],
      "metadata": {
        "colab": {
          "base_uri": "https://localhost:8080/",
          "height": 265
        },
        "id": "xqG8ESAZljd5",
        "outputId": "0e9cc0d8-95c6-4292-aaf7-a968788c29f2"
      },
      "execution_count": 24,
      "outputs": [
        {
          "output_type": "display_data",
          "data": {
            "text/plain": [
              "<Figure size 432x288 with 1 Axes>"
            ],
            "image/png": "[encoded data removed]"
          },
          "metadata": {
            "needs_background": "light"
          }
        }
      ]
    },
    {
      "cell_type": "code",
      "source": [
        "data.columns"
      ],
      "metadata": {
        "colab": {
          "base_uri": "https://localhost:8080/"
        },
        "id": "95zvBptArPKh",
        "outputId": "fe4c0e80-07f9-4474-89f5-718b1de37871"
      },
      "execution_count": 25,
      "outputs": [
        {
          "output_type": "execute_result",
          "data": {
            "text/plain": [
              "Index(['Year', 'Month', 'MEI', 'CO2', 'CH4', 'N2O', 'CFC-11', 'CFC-12', 'TSI',\n",
              "       'Aerosols', 'Temp'],\n",
              "      dtype='object')"
            ]
          },
          "metadata": {},
          "execution_count": 25
        }
      ]
    },
    {
      "cell_type": "code",
      "source": [
        "from scipy import stats\n",
        "\n",
        "print stats.ttest_1samp(data,5.0)"
      ],
      "metadata": {
        "colab": {
          "base_uri": "https://localhost:8080/",
          "height": 134
        },
        "id": "e3OZx8cKocDx",
        "outputId": "350cb395-db0e-4a4a-ae92-6ceb2e95d9ab"
      },
      "execution_count": 26,
      "outputs": [
        {
          "output_type": "error",
          "ename": "SyntaxError",
          "evalue": "ignored",
          "traceback": [
            "\u001b[0;36m  File \u001b[0;32m\"<ipython-input-26-4a2f10b9d5fd>\"\u001b[0;36m, line \u001b[0;32m3\u001b[0m\n\u001b[0;31m    print stats.ttest_1samp(data,5.0)\u001b[0m\n\u001b[0m              ^\u001b[0m\n\u001b[0;31mSyntaxError\u001b[0m\u001b[0;31m:\u001b[0m invalid syntax\n"
          ]
        }
      ]
    },
    {
      "cell_type": "markdown",
      "source": [
        "Part2"
      ],
      "metadata": {
        "id": "VnKaJ_QYanzB"
      }
    },
    {
      "cell_type": "code",
      "source": [
        "import statsmodels.api as sm\n",
        "# If p-value < 0.05 -->Significant\n",
        "# If p-value > 0.05 -->Not Significant\n",
        "datavar = pd.DataFrame(data, columns=['MEI','CO2', 'CH4', 'N2O', 'CFC-11','CFC-12','TSI','Aerosols'])\n",
        "target=data['Temp']\n",
        "X = datavar\n",
        "y = target\n",
        "  \n",
        "X_train,X_test, Y_train, Y_test = train_test_split(X, y, test_size = 0.1, random_state = 10)\n",
        "x_incl_cons = sm.add_constant(X)\n",
        "model = sm.OLS(y, x_incl_cons)  #ordinary least square\n",
        "results = model.fit()  #regresssion results\n",
        "# results.params\n",
        "# results.pvalues\n",
        "pd.DataFrame({'coef': results.params , 'pvalue': round(results.pvalues,3)})"
      ],
      "metadata": {
        "colab": {
          "base_uri": "https://localhost:8080/",
          "height": 387
        },
        "id": "VhOqQuoDrTIp",
        "outputId": "6a239928-fd6c-42ce-95b1-8f2e30bf73c3"
      },
      "execution_count": 27,
      "outputs": [
        {
          "output_type": "stream",
          "name": "stderr",
          "text": [
            "/usr/local/lib/python3.7/dist-packages/statsmodels/tsa/tsatools.py:142: FutureWarning: In a future version of pandas all arguments of concat except for the argument 'objs' will be keyword-only\n",
            "  x = pd.concat(x[::order], 1)\n"
          ]
        },
        {
          "output_type": "execute_result",
          "data": {
            "text/plain": [
              "                coef  pvalue\n",
              "const    -127.695776   0.000\n",
              "MEI         0.066322   0.000\n",
              "CO2         0.005207   0.018\n",
              "CH4         0.000064   0.898\n",
              "N2O        -0.016929   0.032\n",
              "CFC-11     -0.007278   0.000\n",
              "CFC-12      0.004272   0.000\n",
              "TSI         0.095862   0.000\n",
              "Aerosols   -1.581837   0.000"
            ],
            "text/html": [
              "\n",
              "  <div id=\"df-68a7679c-cc16-4304-9678-6dc8fd153e73\">\n",
              "    <div class=\"colab-df-container\">\n",
              "      <div>\n",
              "<style scoped>\n",
              "    .dataframe tbody tr th:only-of-type {\n",
              "        vertical-align: middle;\n",
              "    }\n",
              "\n",
              "    .dataframe tbody tr th {\n",
              "        vertical-align: top;\n",
              "    }\n",
              "\n",
              "    .dataframe thead th {\n",
              "        text-align: right;\n",
              "    }\n",
              "</style>\n",
              "<table border=\"1\" class=\"dataframe\">\n",
              "  <thead>\n",
              "    <tr style=\"text-align: right;\">\n",
              "      <th></th>\n",
              "      <th>coef</th>\n",
              "      <th>pvalue</th>\n",
              "    </tr>\n",
              "  </thead>\n",
              "  <tbody>\n",
              "    <tr>\n",
              "      <th>const</th>\n",
              "      <td>-127.695776</td>\n",
              "      <td>0.000</td>\n",
              "    </tr>\n",
              "    <tr>\n",
              "      <th>MEI</th>\n",
              "      <td>0.066322</td>\n",
              "      <td>0.000</td>\n",
              "    </tr>\n",
              "    <tr>\n",
              "      <th>CO2</th>\n",
              "      <td>0.005207</td>\n",
              "      <td>0.018</td>\n",
              "    </tr>\n",
              "    <tr>\n",
              "      <th>CH4</th>\n",
              "      <td>0.000064</td>\n",
              "      <td>0.898</td>\n",
              "    </tr>\n",
              "    <tr>\n",
              "      <th>N2O</th>\n",
              "      <td>-0.016929</td>\n",
              "      <td>0.032</td>\n",
              "    </tr>\n",
              "    <tr>\n",
              "      <th>CFC-11</th>\n",
              "      <td>-0.007278</td>\n",
              "      <td>0.000</td>\n",
              "    </tr>\n",
              "    <tr>\n",
              "      <th>CFC-12</th>\n",
              "      <td>0.004272</td>\n",
              "      <td>0.000</td>\n",
              "    </tr>\n",
              "    <tr>\n",
              "      <th>TSI</th>\n",
              "      <td>0.095862</td>\n",
              "      <td>0.000</td>\n",
              "    </tr>\n",
              "    <tr>\n",
              "      <th>Aerosols</th>\n",
              "      <td>-1.581837</td>\n",
              "      <td>0.000</td>\n",
              "    </tr>\n",
              "  </tbody>\n",
              "</table>\n",
              "</div>\n",
              "      <button class=\"colab-df-convert\" onclick=\"convertToInteractive('df-68a7679c-cc16-4304-9678-6dc8fd153e73')\"\n",
              "              title=\"Convert this dataframe to an interactive table.\"\n",
              "              style=\"display:none;\">\n",
              "        \n",
              "  <svg xmlns=\"http://www.w3.org/2000/svg\" height=\"24px\"viewBox=\"0 0 24 24\"\n",
              "       width=\"24px\">\n",
              "    <path d=\"M0 0h24v24H0V0z\" fill=\"none\"/>\n",
              "    <path d=\"M18.56 5.44l.94 2.06.94-2.06 2.06-.94-2.06-.94-.94-2.06-.94 2.06-2.06.94zm-11 1L8.5 8.5l.94-2.06 2.06-.94-2.06-.94L8.5 2.5l-.94 2.06-2.06.94zm10 10l.94 2.06.94-2.06 2.06-.94-2.06-.94-.94-2.06-.94 2.06-2.06.94z\"/><path d=\"M17.41 7.96l-1.37-1.37c-.4-.4-.92-.59-1.43-.59-.52 0-1.04.2-1.43.59L10.3 9.45l-7.72 7.72c-.78.78-.78 2.05 0 2.83L4 21.41c.39.39.9.59 1.41.59.51 0 1.02-.2 1.41-.59l7.78-7.78 2.81-2.81c.8-.78.8-2.07 0-2.86zM5.41 20L4 18.59l7.72-7.72 1.47 1.35L5.41 20z\"/>\n",
              "  </svg>\n",
              "      </button>\n",
              "      \n",
              "  <style>\n",
              "    .colab-df-container {\n",
              "      display:flex;\n",
              "      flex-wrap:wrap;\n",
              "      gap: 12px;\n",
              "    }\n",
              "\n",
              "    .colab-df-convert {\n",
              "      background-color: #E8F0FE;\n",
              "      border: none;\n",
              "      border-radius: 50%;\n",
              "      cursor: pointer;\n",
              "      display: none;\n",
              "      fill: #1967D2;\n",
              "      height: 32px;\n",
              "      padding: 0 0 0 0;\n",
              "      width: 32px;\n",
              "    }\n",
              "\n",
              "    .colab-df-convert:hover {\n",
              "      background-color: #E2EBFA;\n",
              "      box-shadow: 0px 1px 2px rgba(60, 64, 67, 0.3), 0px 1px 3px 1px rgba(60, 64, 67, 0.15);\n",
              "      fill: #174EA6;\n",
              "    }\n",
              "\n",
              "    [theme=dark] .colab-df-convert {\n",
              "      background-color: #3B4455;\n",
              "      fill: #D2E3FC;\n",
              "    }\n",
              "\n",
              "    [theme=dark] .colab-df-convert:hover {\n",
              "      background-color: #434B5C;\n",
              "      box-shadow: 0px 1px 3px 1px rgba(0, 0, 0, 0.15);\n",
              "      filter: drop-shadow(0px 1px 2px rgba(0, 0, 0, 0.3));\n",
              "      fill: #FFFFFF;\n",
              "    }\n",
              "  </style>\n",
              "\n",
              "      <script>\n",
              "        const buttonEl =\n",
              "          document.querySelector('#df-68a7679c-cc16-4304-9678-6dc8fd153e73 button.colab-df-convert');\n",
              "        buttonEl.style.display =\n",
              "          google.colab.kernel.accessAllowed ? 'block' : 'none';\n",
              "\n",
              "        async function convertToInteractive(key) {\n",
              "          const element = document.querySelector('#df-68a7679c-cc16-4304-9678-6dc8fd153e73');\n",
              "          const dataTable =\n",
              "            await google.colab.kernel.invokeFunction('convertToInteractive',\n",
              "                                                     [key], {});\n",
              "          if (!dataTable) return;\n",
              "\n",
              "          const docLinkHtml = 'Like what you see? Visit the ' +\n",
              "            '<a target=\"_blank\" href=https://colab.research.google.com/notebooks/data_table.ipynb>data table notebook</a>'\n",
              "            + ' to learn more about interactive tables.';\n",
              "          element.innerHTML = '';\n",
              "          dataTable['output_type'] = 'display_data';\n",
              "          await google.colab.output.renderOutput(dataTable, element);\n",
              "          const docLink = document.createElement('div');\n",
              "          docLink.innerHTML = docLinkHtml;\n",
              "          element.appendChild(docLink);\n",
              "        }\n",
              "      </script>\n",
              "    </div>\n",
              "  </div>\n",
              "  "
            ]
          },
          "metadata": {},
          "execution_count": 27
        }
      ]
    },
    {
      "cell_type": "markdown",
      "source": [
        "PART2:\n",
        "significant variables: MEI; CO2; N2O; CFC-11; CFC-12; "
      ],
      "metadata": {
        "id": "Dwn6hFS3vFMf"
      }
    },
    {
      "cell_type": "markdown",
      "source": [
        "PART3"
      ],
      "metadata": {
        "id": "MiOyKTuHaqF_"
      }
    },
    {
      "cell_type": "markdown",
      "source": [
        "Current scientific opinion is that nitrous oxide and CFC-11 are greenhouse gases: gases that \n",
        "are able to trap heat from the sun and contribute to the heating of the Earth. However, the \n",
        "regression coefficients of both the N2O and CFC-11 variables are negative, indicating that \n",
        "increasing atmospheric concentrations of either of these two compounds is associated with \n",
        "lower global temperatures.\n",
        "Which of the following is the simplest correct explanation for this contradiction?"
      ],
      "metadata": {
        "id": "2t4NqKkLbLO3"
      }
    },
    {
      "cell_type": "markdown",
      "source": [
        "ANSWER: All of the gas concentration variables reflect human development - N2O and CFC.11 are correlated with other variables in the data set. We can see that both of them are higly correlated to the CO2 concetration of the atmospehere. Maybe, if we only take N2O or CFC11 individually, without CO2, they might recioeve positive regg. coeff."
      ],
      "metadata": {
        "id": "-jFlGVQ9bOK-"
      }
    },
    {
      "cell_type": "code",
      "source": [
        "import numpy as np\n",
        "import pandas as pd\n",
        "import seaborn as sns\n",
        "import matplotlib.pyplot as plt\n",
        "from sklearn import preprocessing, svm\n",
        "from sklearn.model_selection import train_test_split\n",
        "from sklearn.linear_model import LinearRegression"
      ],
      "metadata": {
        "id": "BwT7FEDPahTb"
      },
      "execution_count": null,
      "outputs": []
    },
    {
      "cell_type": "code",
      "source": [
        "data.columns"
      ],
      "metadata": {
        "id": "ja-FkWm-brlj"
      },
      "execution_count": null,
      "outputs": []
    },
    {
      "cell_type": "code",
      "source": [
        "#Extracting independent and dependent Variable  \n",
        "x= data.iloc[:, [0,1,2,3,4,5,6,7,8,9]].values  \n",
        "y= data.iloc[:, 10].values  "
      ],
      "metadata": {
        "id": "uBrL1WYobsCH"
      },
      "execution_count": null,
      "outputs": []
    },
    {
      "cell_type": "code",
      "source": [
        "x_train, x_test, y_train, y_test = train_test_split(x, y, test_size = 0.25)"
      ],
      "metadata": {
        "id": "c8llC2xXbxOI"
      },
      "execution_count": null,
      "outputs": []
    },
    {
      "cell_type": "code",
      "source": [
        "regr = LinearRegression()\n",
        "  \n",
        "regr.fit(x_train, y_train)\n",
        "print(regr.score(x_test, y_test))"
      ],
      "metadata": {
        "id": "A2Jlb5IBbxr-"
      },
      "execution_count": null,
      "outputs": []
    },
    {
      "cell_type": "code",
      "source": [
        "import statsmodels.api as sm\n",
        "# If p-value < 0.05 -->Significant\n",
        "# If p-value > 0.05 -->Not Significant\n",
        "datavar = pd.DataFrame(data, columns=['MEI', 'CH4', 'N2O', 'CFC-11','CFC-12','TSI','Aerosols'])\n",
        "target=data['Temp']\n",
        "X = datavar\n",
        "y = target\n",
        "  \n",
        "X_train,X_test, Y_train, Y_test = train_test_split(X, y, test_size = 0.1, random_state = 10)\n",
        "x_incl_cons = sm.add_constant(X)\n",
        "model = sm.OLS(y, x_incl_cons)  #ordinary least square\n",
        "results = model.fit()  #regresssion results\n",
        "# results.params\n",
        "# results.pvalues\n",
        "pd.DataFrame({'coef': results.params , 'pvalue': round(results.pvalues,3)})"
      ],
      "metadata": {
        "colab": {
          "base_uri": "https://localhost:8080/",
          "height": 356
        },
        "id": "aeUb5SWGb1N6",
        "outputId": "7782d73c-88ec-41fd-a4fd-57ef2649552c"
      },
      "execution_count": 28,
      "outputs": [
        {
          "output_type": "stream",
          "name": "stderr",
          "text": [
            "/usr/local/lib/python3.7/dist-packages/statsmodels/tsa/tsatools.py:142: FutureWarning: In a future version of pandas all arguments of concat except for the argument 'objs' will be keyword-only\n",
            "  x = pd.concat(x[::order], 1)\n"
          ]
        },
        {
          "output_type": "execute_result",
          "data": {
            "text/plain": [
              "                coef  pvalue\n",
              "const    -125.086848   0.000\n",
              "MEI         0.066999   0.000\n",
              "CH4        -0.000067   0.893\n",
              "N2O        -0.004911   0.416\n",
              "CFC-11     -0.007409   0.000\n",
              "CFC-12      0.004433   0.000\n",
              "TSI         0.092722   0.000\n",
              "Aerosols   -1.643945   0.000"
            ],
            "text/html": [
              "\n",
              "  <div id=\"df-8fdaa08c-a1e3-45c1-9f75-306ebb9ba5dc\">\n",
              "    <div class=\"colab-df-container\">\n",
              "      <div>\n",
              "<style scoped>\n",
              "    .dataframe tbody tr th:only-of-type {\n",
              "        vertical-align: middle;\n",
              "    }\n",
              "\n",
              "    .dataframe tbody tr th {\n",
              "        vertical-align: top;\n",
              "    }\n",
              "\n",
              "    .dataframe thead th {\n",
              "        text-align: right;\n",
              "    }\n",
              "</style>\n",
              "<table border=\"1\" class=\"dataframe\">\n",
              "  <thead>\n",
              "    <tr style=\"text-align: right;\">\n",
              "      <th></th>\n",
              "      <th>coef</th>\n",
              "      <th>pvalue</th>\n",
              "    </tr>\n",
              "  </thead>\n",
              "  <tbody>\n",
              "    <tr>\n",
              "      <th>const</th>\n",
              "      <td>-125.086848</td>\n",
              "      <td>0.000</td>\n",
              "    </tr>\n",
              "    <tr>\n",
              "      <th>MEI</th>\n",
              "      <td>0.066999</td>\n",
              "      <td>0.000</td>\n",
              "    </tr>\n",
              "    <tr>\n",
              "      <th>CH4</th>\n",
              "      <td>-0.000067</td>\n",
              "      <td>0.893</td>\n",
              "    </tr>\n",
              "    <tr>\n",
              "      <th>N2O</th>\n",
              "      <td>-0.004911</td>\n",
              "      <td>0.416</td>\n",
              "    </tr>\n",
              "    <tr>\n",
              "      <th>CFC-11</th>\n",
              "      <td>-0.007409</td>\n",
              "      <td>0.000</td>\n",
              "    </tr>\n",
              "    <tr>\n",
              "      <th>CFC-12</th>\n",
              "      <td>0.004433</td>\n",
              "      <td>0.000</td>\n",
              "    </tr>\n",
              "    <tr>\n",
              "      <th>TSI</th>\n",
              "      <td>0.092722</td>\n",
              "      <td>0.000</td>\n",
              "    </tr>\n",
              "    <tr>\n",
              "      <th>Aerosols</th>\n",
              "      <td>-1.643945</td>\n",
              "      <td>0.000</td>\n",
              "    </tr>\n",
              "  </tbody>\n",
              "</table>\n",
              "</div>\n",
              "      <button class=\"colab-df-convert\" onclick=\"convertToInteractive('df-8fdaa08c-a1e3-45c1-9f75-306ebb9ba5dc')\"\n",
              "              title=\"Convert this dataframe to an interactive table.\"\n",
              "              style=\"display:none;\">\n",
              "        \n",
              "  <svg xmlns=\"http://www.w3.org/2000/svg\" height=\"24px\"viewBox=\"0 0 24 24\"\n",
              "       width=\"24px\">\n",
              "    <path d=\"M0 0h24v24H0V0z\" fill=\"none\"/>\n",
              "    <path d=\"M18.56 5.44l.94 2.06.94-2.06 2.06-.94-2.06-.94-.94-2.06-.94 2.06-2.06.94zm-11 1L8.5 8.5l.94-2.06 2.06-.94-2.06-.94L8.5 2.5l-.94 2.06-2.06.94zm10 10l.94 2.06.94-2.06 2.06-.94-2.06-.94-.94-2.06-.94 2.06-2.06.94z\"/><path d=\"M17.41 7.96l-1.37-1.37c-.4-.4-.92-.59-1.43-.59-.52 0-1.04.2-1.43.59L10.3 9.45l-7.72 7.72c-.78.78-.78 2.05 0 2.83L4 21.41c.39.39.9.59 1.41.59.51 0 1.02-.2 1.41-.59l7.78-7.78 2.81-2.81c.8-.78.8-2.07 0-2.86zM5.41 20L4 18.59l7.72-7.72 1.47 1.35L5.41 20z\"/>\n",
              "  </svg>\n",
              "      </button>\n",
              "      \n",
              "  <style>\n",
              "    .colab-df-container {\n",
              "      display:flex;\n",
              "      flex-wrap:wrap;\n",
              "      gap: 12px;\n",
              "    }\n",
              "\n",
              "    .colab-df-convert {\n",
              "      background-color: #E8F0FE;\n",
              "      border: none;\n",
              "      border-radius: 50%;\n",
              "      cursor: pointer;\n",
              "      display: none;\n",
              "      fill: #1967D2;\n",
              "      height: 32px;\n",
              "      padding: 0 0 0 0;\n",
              "      width: 32px;\n",
              "    }\n",
              "\n",
              "    .colab-df-convert:hover {\n",
              "      background-color: #E2EBFA;\n",
              "      box-shadow: 0px 1px 2px rgba(60, 64, 67, 0.3), 0px 1px 3px 1px rgba(60, 64, 67, 0.15);\n",
              "      fill: #174EA6;\n",
              "    }\n",
              "\n",
              "    [theme=dark] .colab-df-convert {\n",
              "      background-color: #3B4455;\n",
              "      fill: #D2E3FC;\n",
              "    }\n",
              "\n",
              "    [theme=dark] .colab-df-convert:hover {\n",
              "      background-color: #434B5C;\n",
              "      box-shadow: 0px 1px 3px 1px rgba(0, 0, 0, 0.15);\n",
              "      filter: drop-shadow(0px 1px 2px rgba(0, 0, 0, 0.3));\n",
              "      fill: #FFFFFF;\n",
              "    }\n",
              "  </style>\n",
              "\n",
              "      <script>\n",
              "        const buttonEl =\n",
              "          document.querySelector('#df-8fdaa08c-a1e3-45c1-9f75-306ebb9ba5dc button.colab-df-convert');\n",
              "        buttonEl.style.display =\n",
              "          google.colab.kernel.accessAllowed ? 'block' : 'none';\n",
              "\n",
              "        async function convertToInteractive(key) {\n",
              "          const element = document.querySelector('#df-8fdaa08c-a1e3-45c1-9f75-306ebb9ba5dc');\n",
              "          const dataTable =\n",
              "            await google.colab.kernel.invokeFunction('convertToInteractive',\n",
              "                                                     [key], {});\n",
              "          if (!dataTable) return;\n",
              "\n",
              "          const docLinkHtml = 'Like what you see? Visit the ' +\n",
              "            '<a target=\"_blank\" href=https://colab.research.google.com/notebooks/data_table.ipynb>data table notebook</a>'\n",
              "            + ' to learn more about interactive tables.';\n",
              "          element.innerHTML = '';\n",
              "          dataTable['output_type'] = 'display_data';\n",
              "          await google.colab.output.renderOutput(dataTable, element);\n",
              "          const docLink = document.createElement('div');\n",
              "          docLink.innerHTML = docLinkHtml;\n",
              "          element.appendChild(docLink);\n",
              "        }\n",
              "      </script>\n",
              "    </div>\n",
              "  </div>\n",
              "  "
            ]
          },
          "metadata": {},
          "execution_count": 28
        }
      ]
    }
  ]
}